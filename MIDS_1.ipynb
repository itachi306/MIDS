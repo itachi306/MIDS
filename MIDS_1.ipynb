{
 "cells": [
  {
   "cell_type": "code",
   "execution_count": null,
   "id": "5af62ee8",
   "metadata": {},
   "outputs": [],
   "source": [
    "import pandas as pd\n",
    "import numpy as np\n",
    "\n",
    "train_df = pd.read_csv(\"train.csv\")\n",
    "test_df = pd.read_csv(\"test.csv\")\n",
    "\n",
    "# Print the columns of the train_df DataFrame\n",
    "train_df.columns\n",
    "\n",
    "train_df. head(10)\n",
    "\n",
    "train_df.tail()\n",
    "\n",
    "train_df. describe()\n",
    "\n",
    "print (train_df. isnull().sum( ) )\n",
    "\n",
    "train_df.Cabin = train_df.Cabin.fillna(\"unknown\")\n",
    "print(train_df.isnull().sum())\n",
    "\n",
    "print (train_df.shape)\n",
    "print( \"\\n\")\n",
    "print (train_df.dtypes)\n"
   ]
  }
 ],
 "metadata": {
  "kernelspec": {
   "display_name": "Python 3 (ipykernel)",
   "language": "python",
   "name": "python3"
  },
  "language_info": {
   "codemirror_mode": {
    "name": "ipython",
    "version": 3
   },
   "file_extension": ".py",
   "mimetype": "text/x-python",
   "name": "python",
   "nbconvert_exporter": "python",
   "pygments_lexer": "ipython3",
   "version": "3.11.5"
  }
 },
 "nbformat": 4,
 "nbformat_minor": 5
}
