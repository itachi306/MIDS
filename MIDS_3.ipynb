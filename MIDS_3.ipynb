{
 "cells": [
  {
   "cell_type": "code",
   "execution_count": 3,
   "id": "4f26910e",
   "metadata": {},
   "outputs": [
    {
     "name": "stdout",
     "output_type": "stream",
     "text": [
      "\n",
      "1st statement\n",
      "Overall sentiment dictionary is {'neg': 0.0, 'neu': 0.609, 'pos': 0.391, 'compound': 0.6696}\n",
      "Sentence was rated as 0.0 % Negative\n",
      "Sentence was rated as 60.9 % Neutral\n",
      "Sentence was rated as 39.1 % Positive\n",
      "Positive\n",
      "\n",
      "2nd Statement\n",
      "Overall sentiment dictionary is {'neg': 0.413, 'neu': 0.587, 'pos': 0.0, 'compound': -0.2755}\n",
      "Sentence was rated as 41.3 % Negative\n",
      "Sentence was rated as 58.699999999999996 % Neutral\n",
      "Sentence was rated as 0.0 % Positive\n",
      "Negative\n",
      "\n",
      "3rd Statement\n",
      "Overall sentiment dictionary is {'neg': 0.26, 'neu': 0.74, 'pos': 0.0, 'compound': -0.2755}\n",
      "Sentence was rated as 26.0 % Negative\n",
      "Sentence was rated as 74.0 % Neutral\n",
      "Sentence was rated as 0.0 % Positive\n",
      "Negative\n"
     ]
    },
    {
     "name": "stderr",
     "output_type": "stream",
     "text": [
      "[nltk_data] Downloading package vader_lexicon to\n",
      "[nltk_data]     C:\\Users\\ameyp\\AppData\\Roaming\\nltk_data...\n",
      "[nltk_data]   Package vader_lexicon is already up-to-date!\n"
     ]
    }
   ],
   "source": [
    "import nltk\n",
    "\n",
    "nltk.download('vader_lexicon')\n",
    "\n",
    "from nltk.sentiment.vader import SentimentIntensityAnalyzer\n",
    "\n",
    "# function to print sentiments of the sentence\n",
    "def sentiment_scores(sentence):\n",
    "    # Create a SentimentIntensityAnalyzer object\n",
    "    sid_obj = SentimentIntensityAnalyzer()\n",
    "    \n",
    "    # polarity_scores method of SentimentIntensityAnalyzer object gives a sentiment dictionary\n",
    "    sentiment_dict = sid_obj.polarity_scores(sentence)\n",
    "    print(\"Overall sentiment dictionary is\", sentiment_dict)\n",
    "    print(\"Sentence was rated as\", sentiment_dict['neg']*100, \"% Negative\")\n",
    "    print(\"Sentence was rated as\", sentiment_dict['neu']*100, \"% Neutral\")\n",
    "    print(\"Sentence was rated as\", sentiment_dict['pos']*100, \"% Positive\")\n",
    "\n",
    "    # decide sentiment as positive, negative and neutral\n",
    "    if sentiment_dict['compound'] >= 0.05:\n",
    "        print(\"Positive\")\n",
    "    elif sentiment_dict['compound'] <= -0.05:\n",
    "        print(\"Negative\")\n",
    "    else:\n",
    "        print(\"Neutral\")\n",
    "\n",
    "# Driver code\n",
    "if __name__ == \"__main__\":\n",
    "    print(\"\\n1st statement\")\n",
    "    sentence = \"This is the best movie I have watched ever!\"\n",
    "    # function calling\n",
    "    sentiment_scores(sentence)\n",
    "\n",
    "    print(\"\\n2nd Statement\")\n",
    "    sentence = \"I do not like you.\"\n",
    "    sentiment_scores(sentence)\n",
    "\n",
    "    print(\"\\n3rd Statement\")\n",
    "    sentence = \"I would not recommend this product to you\"\n",
    "    sentiment_scores(sentence)\n"
   ]
  },
  {
   "cell_type": "code",
   "execution_count": null,
   "id": "384b91b9",
   "metadata": {},
   "outputs": [],
   "source": []
  }
 ],
 "metadata": {
  "kernelspec": {
   "display_name": "Python 3 (ipykernel)",
   "language": "python",
   "name": "python3"
  },
  "language_info": {
   "codemirror_mode": {
    "name": "ipython",
    "version": 3
   },
   "file_extension": ".py",
   "mimetype": "text/x-python",
   "name": "python",
   "nbconvert_exporter": "python",
   "pygments_lexer": "ipython3",
   "version": "3.11.5"
  }
 },
 "nbformat": 4,
 "nbformat_minor": 5
}
