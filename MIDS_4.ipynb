{
 "cells": [
  {
   "cell_type": "code",
   "execution_count": null,
   "id": "2db7b569",
   "metadata": {},
   "outputs": [],
   "source": [
    "import pandas as pd\n",
    "from sklearn.model_selection import train_test_split\n",
    "from sklearn.linear_model import LinearRegression\n",
    "from sklearn.metrics import mean_squared_error\n",
    "\n",
    "# Load the dataset\n",
    "url = \"http://archive.ics.uci.edu/ml/machine-learning-databases/abalone/abalone.data\"\n",
    "abalone_columns = ['Sex', 'Length', 'Diameter', 'Height', 'Whole weight', 'Shucked weight', 'Viscera weight', 'Shell weight', 'Rings']\n",
    "abalone_data = pd.read_csv(url, names=abalone_columns)\n",
    "\n",
    "# Convert sex from categorical to numerical\n",
    "abalone_data['Sex'] = abalone_data['Sex'].map({'M': 0, 'F': 1, 'I': 2})\n",
    "\n",
    "# Split data into features and target\n",
    "X = abalone_data.drop('Rings', axis=1)  # Features\n",
    "y = abalone_data['Rings']  # Target (age in years)\n",
    "\n",
    "# Split data into train and test sets\n",
    "X_train, X_test, y_train, y_test = train_test_split(X, y, test_size=0.2, random_state=42)\n",
    "\n",
    "# Initialize and train the linear regression model\n",
    "model = LinearRegression()\n",
    "model.fit(X_train, y_train)\n",
    "\n",
    "# Make predictions on test set\n",
    "y_pred = model.predict(X_test)\n",
    "\n",
    "# Display actual vs predicted age\n",
    "results = pd.DataFrame({'Actual Age': y_test, 'Predicted Age': y_pred})\n",
    "print(\"Actual vs Predicted Age:\")\n",
    "print(results)\n",
    "\n",
    "# Calculate mean squared error\n",
    "mse_reg = mean_squared_error(y_test, y_pred)  # Fix the variable names here\n",
    "print(\"Mean Squared Error (Regression):\", mse_reg)\n",
    "\n",
    "# Make predictions on user input\n",
    "sex = int(input(\"Enter sex (0 for M, 1 for F, 2 for I): \"))\n",
    "length = float(input(\"Enter length (mm): \"))\n",
    "diameter = float(input(\"Enter diameter (mm): \"))\n",
    "height = float(input(\"Enter height (mm): \"))\n",
    "whole_weight = float(input(\"Enter whole weight (grams): \"))\n",
    "shucked_weight = float(input(\"Enter shucked weight (grams): \"))\n",
    "viscera_weight = float(input(\"Enter viscera weight (grams): \"))\n",
    "shell_weight = float(input(\"Enter shell weight (grams): \"))\n",
    "\n",
    "user_input = pd.DataFrame({'Sex': [sex], 'Length': [length], 'Diameter': [diameter], 'Height': [height], \n",
    "                           'Whole weight': [whole_weight], 'Shucked weight': [shucked_weight], \n",
    "                           'Viscera weight': [viscera_weight], 'Shell weight': [shell_weight]})\n",
    "\n",
    "predicted_age = model.predict(user_input)[0]\n",
    "print(\"Predicted Age of the abalone:\", round(predicted_age, 2), \"years\")\n"
   ]
  },
  {
   "cell_type": "code",
   "execution_count": null,
   "id": "77d11bfa",
   "metadata": {},
   "outputs": [],
   "source": [
    "#ex = [0.295 , 0.225 , 0.08 , 0.124 , 0.0485, 0.032 , 0.04 ]"
   ]
  },
  {
   "cell_type": "code",
   "execution_count": null,
   "id": "bcf7d432",
   "metadata": {},
   "outputs": [],
   "source": []
  },
  {
   "cell_type": "code",
   "execution_count": null,
   "id": "0432dad2",
   "metadata": {},
   "outputs": [],
   "source": [
    "\n"
   ]
  },
  {
   "cell_type": "code",
   "execution_count": null,
   "id": "571e991a",
   "metadata": {},
   "outputs": [],
   "source": []
  },
  {
   "cell_type": "code",
   "execution_count": null,
   "id": "4c73daca",
   "metadata": {},
   "outputs": [],
   "source": []
  },
  {
   "cell_type": "code",
   "execution_count": null,
   "id": "c1b819ac",
   "metadata": {},
   "outputs": [],
   "source": []
  },
  {
   "cell_type": "code",
   "execution_count": null,
   "id": "e03d41d4",
   "metadata": {},
   "outputs": [],
   "source": []
  },
  {
   "cell_type": "code",
   "execution_count": null,
   "id": "a654398e",
   "metadata": {},
   "outputs": [],
   "source": []
  },
  {
   "cell_type": "code",
   "execution_count": null,
   "id": "33ebc36f",
   "metadata": {},
   "outputs": [],
   "source": []
  },
  {
   "cell_type": "code",
   "execution_count": null,
   "id": "c97caa46",
   "metadata": {},
   "outputs": [],
   "source": []
  }
 ],
 "metadata": {
  "kernelspec": {
   "display_name": "Python 3 (ipykernel)",
   "language": "python",
   "name": "python3"
  },
  "language_info": {
   "codemirror_mode": {
    "name": "ipython",
    "version": 3
   },
   "file_extension": ".py",
   "mimetype": "text/x-python",
   "name": "python",
   "nbconvert_exporter": "python",
   "pygments_lexer": "ipython3",
   "version": "3.11.5"
  }
 },
 "nbformat": 4,
 "nbformat_minor": 5
}
